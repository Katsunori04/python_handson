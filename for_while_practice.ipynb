{
  "nbformat": 4,
  "nbformat_minor": 0,
  "metadata": {
    "colab": {
      "name": "for_while_practice.ipynb",
      "provenance": [],
      "collapsed_sections": [],
      "authorship_tag": "ABX9TyMj0HuK6sl8ykvj3XCgO0rx",
      "include_colab_link": true
    },
    "kernelspec": {
      "name": "python3",
      "display_name": "Python 3"
    },
    "language_info": {
      "name": "python"
    }
  },
  "cells": [
    {
      "cell_type": "markdown",
      "metadata": {
        "id": "view-in-github",
        "colab_type": "text"
      },
      "source": [
        "<a href=\"https://colab.research.google.com/github/Katsunori04/python_handson/blob/main/for_while_practice.ipynb\" target=\"_parent\"><img src=\"https://colab.research.google.com/assets/colab-badge.svg\" alt=\"Open In Colab\"/></a>"
      ]
    },
    {
      "cell_type": "markdown",
      "source": [
        "# **繰り返し**\n",
        "\n",
        "制御構造のうち**繰り返し**について説明します。\n",
        "\n",
        "繰り返しを行う制御構造 `for` や `while` によって、同じ処理の繰り返しを簡単にプログラムすることができます。\n",
        "\n",
        "## for文による繰り返し\n",
        "\n",
        "2-2で、リストと文字列に対するfor文の繰り返しについて説明しました。\n",
        "Pythonにおける**for文**の一般的な文法は以下のとおりです。\n",
        "\n",
        "---\n",
        "```Python\n",
        "for 変数 in 文字列・リスト・辞書など:\n",
        "    実行文\n",
        "```\n",
        "\n",
        "---\n",
        "\n",
        "if文と同様、 実行文のインデントは深くなっていることに注意してください。\n",
        "\n",
        "for文では `in` 以降に与えられる、`文字列・リスト・辞書など` にわたって、\n",
        "`実行文` のグループを繰り返します。\n",
        "一般に繰り返しの順番は文字列・リスト・辞書などに要素が現れる順番で、\n",
        "要素は **`for`** と **`in`** の間の `変数` に代入されます。"
      ],
      "metadata": {
        "id": "i74vf6Sk9XVL"
      }
    },
    {
      "cell_type": "code",
      "source": [
        "#リストのfor文の例\n",
        "words = ['dog', 'cat', 'mouse']\n",
        "for w in words:\n",
        "    print(w, len(w))\n",
        "print('finish')"
      ],
      "metadata": {
        "colab": {
          "base_uri": "https://localhost:8080/"
        },
        "id": "6c-5p0_p9jIH",
        "outputId": "2252b161-cae3-4e8a-e9bc-2fab4d8cedd2"
      },
      "execution_count": 6,
      "outputs": [
        {
          "output_type": "stream",
          "name": "stdout",
          "text": [
            "dog 3\n",
            "cat 3\n",
            "mouse 5\n",
            "finish\n"
          ]
        }
      ]
    },
    {
      "cell_type": "code",
      "source": [
        "#文字列のfor文の例\n",
        "word = 'supercalifragilisticexpialidocious'\n",
        "for c in word:\n",
        "    print(c)"
      ],
      "metadata": {
        "id": "MuouqYsd9qm3"
      },
      "execution_count": null,
      "outputs": []
    },
    {
      "cell_type": "code",
      "source": [
        "#辞書型のfor文の例\n",
        "dic1 = {'cat': 3, 'dog': 3, 'elephant': 8}\n",
        "for key in dic1.keys():\n",
        "    print('key:', key, ', value:', dic1[key])"
      ],
      "metadata": {
        "colab": {
          "base_uri": "https://localhost:8080/"
        },
        "id": "jAhzmulD9wBT",
        "outputId": "53a03f8a-2884-4a8e-dbda-c41c84ba5771"
      },
      "execution_count": 9,
      "outputs": [
        {
          "output_type": "stream",
          "name": "stdout",
          "text": [
            "key: cat , value: 3\n",
            "key: dog , value: 3\n",
            "key: elephant , value: 8\n"
          ]
        }
      ]
    },
    {
      "cell_type": "markdown",
      "source": [
        "## **`range`**\n",
        "\n",
        "特定の回数の繰り返し処理が必要なときは、**`range`** 関数を用います。\n",
        "\n",
        "---\n",
        "```Python\n",
        "for value in range(j):\n",
        "    実行文\n",
        "```\n",
        "---\n",
        "\n",
        "これによって実行文を `j` 回実行します。具体例を見てみましょう。"
      ],
      "metadata": {
        "id": "GcS8QuWc-B7B"
      }
    },
    {
      "cell_type": "code",
      "source": [
        "for value in range(5):\n",
        "    print('Hi!')"
      ],
      "metadata": {
        "colab": {
          "base_uri": "https://localhost:8080/"
        },
        "id": "2L3HTyHB-FcO",
        "outputId": "cd4790b9-60d9-4dc2-a623-697e797d2100"
      },
      "execution_count": 11,
      "outputs": [
        {
          "output_type": "stream",
          "name": "stdout",
          "text": [
            "Hi!\n",
            "Hi!\n",
            "Hi!\n",
            "Hi!\n",
            "Hi!\n"
          ]
        }
      ]
    },
    {
      "cell_type": "code",
      "source": [
        ""
      ],
      "metadata": {
        "id": "qijOGaeBAuEC"
      },
      "execution_count": null,
      "outputs": []
    },
    {
      "cell_type": "markdown",
      "source": [
        "## while文による繰り返し\n",
        "\n",
        "**while文**では **`while`** の後の条件式が `False` となるまで、実行文グループを繰り返します。\n",
        "\n",
        "下記のプログラムでは、$\\sum_{x=1}^{10}x$ が `total` の値となります。"
      ],
      "metadata": {
        "id": "YsDz0_s0Auyq"
      }
    },
    {
      "cell_type": "code",
      "source": [
        "x = 1\n",
        "total = 0 \n",
        "while x <= 10:\n",
        "    total += x\n",
        "    x += 1\n",
        "\n",
        "print(x, total)"
      ],
      "metadata": {
        "colab": {
          "base_uri": "https://localhost:8080/"
        },
        "id": "ohSsCc02Av9B",
        "outputId": "6f3f88f0-9ec3-4caf-ac95-d21832e94a78"
      },
      "execution_count": 26,
      "outputs": [
        {
          "output_type": "stream",
          "name": "stdout",
          "text": [
            "11 55\n"
          ]
        }
      ]
    },
    {
      "cell_type": "markdown",
      "source": [
        "## **break文**\n",
        "**break文**は、 for文もしくはwhile文の実行文グループで利用可能です。\n",
        "break文は実行中のプログラムで最も内側の繰り返し処理を中断し、そのループを終了させる目的で利用されます。\n",
        "以下のプログラムは、初項 `256`、公比 1/2、の等比級数の和を求めるものです。\n",
        "ただし、総和が `500` をこえれば打ち切られます。"
      ],
      "metadata": {
        "id": "9rMQ30vBBAeY"
      }
    },
    {
      "cell_type": "code",
      "source": [
        "x = 256\n",
        "total = 0\n",
        "while x > 0:\n",
        "    if total > 500:\n",
        "        break           # 500 を超えれば while ループを抜ける\n",
        "    total += x\n",
        "    x = x // 2          # // は少数点以下を切り捨てる除算\n",
        "\n",
        "print(x, total)"
      ],
      "metadata": {
        "id": "I4u5AJmBA5V5"
      },
      "execution_count": null,
      "outputs": []
    },
    {
      "cell_type": "markdown",
      "source": [
        "## **continue文**\n",
        "continue文はbreak文同様に、`for` および `while` ループの実行文グループで利用可能です。\n",
        "continue文は実行中のプログラムで最も内側の繰り返し処理を中断し、次のループの繰り返しの処理を開始します。\n",
        "\n",
        "下記のプログラムでは、`colors` リストの `'black'` は印字されませんが `'white'` は印字されます。"
      ],
      "metadata": {
        "id": "on5jxvTWBIow"
      }
    },
    {
      "cell_type": "code",
      "source": [
        "colors = ['red', 'green', 'blue', 'black', 'white']\n",
        "for c in colors:\n",
        "    if c == 'black':\n",
        "        continue\n",
        "    print(c)\n",
        "else:\n",
        "    print('')"
      ],
      "metadata": {
        "colab": {
          "base_uri": "https://localhost:8080/"
        },
        "id": "U4Br2BJEBLip",
        "outputId": "c5faa81d-6a3a-4e75-82f9-49057b00c0e4"
      },
      "execution_count": 28,
      "outputs": [
        {
          "output_type": "stream",
          "name": "stdout",
          "text": [
            "red\n",
            "green\n",
            "blue\n",
            "white\n",
            "\n"
          ]
        }
      ]
    },
    {
      "cell_type": "markdown",
      "source": [
        "## **pass文**\n",
        "\n",
        "Pythonでは空の実行文グループは許されていません。\n",
        "一方で、空白のコードブロックを用いることでプログラムが読みやすくなる場合があります。\n",
        "たとえば以下の、`if` ... `elif` ... `else` プログラムはエラーとなります。"
      ],
      "metadata": {
        "id": "CUopBlHnBbos"
      }
    },
    {
      "cell_type": "code",
      "source": [
        "x = -1\n",
        "if x < 0:\n",
        "    print('x is positive')\n",
        "elif x == 0:\n",
        "    # no error\n",
        "    pass\n",
        "elif 0 < x < 5:\n",
        "    print('x is positive and smaller than 5')\n",
        "else:\n",
        "    print('x is positive and larger than or equal to 5')"
      ],
      "metadata": {
        "colab": {
          "base_uri": "https://localhost:8080/"
        },
        "id": "WhZiWJTABcY0",
        "outputId": "84886251-b3a5-4df3-b012-5f0a69d3db58"
      },
      "execution_count": 29,
      "outputs": [
        {
          "output_type": "stream",
          "name": "stdout",
          "text": [
            "x is positive\n"
          ]
        }
      ]
    },
    {
      "cell_type": "code",
      "source": [
        ""
      ],
      "metadata": {
        "id": "CPQ-fX4lBhrb"
      },
      "execution_count": null,
      "outputs": []
    },
    {
      "cell_type": "markdown",
      "source": [
        "# **総復習問題**  \n",
        "3の倍数と３のつく数字のときにアホになる、\"世界のナベアツ\" プログラムを作成してください。\n",
        "\n",
        "**仕様**  \n",
        "**入力 :**  （リスト） num_list = [1, 2, 3, 4, 5, 6, 10, 11, 12 ,13]  \n",
        "**出力 :**  \n",
        "\n",
        "``` \n",
        "1:アホじゃない  \n",
        "2:アホじゃない  \n",
        "3:アホ  \n",
        "4:アホじゃない  \n",
        "5:アホじゃない  \n",
        "6:アホ  \n",
        "10:アホじゃない  \n",
        "11:アホじゃない  \n",
        "12:アホじゃない  \n",
        "13:アホ\n",
        "\n",
        "```\n",
        "\n",
        "\n",
        "\n",
        "\n",
        "**ヒント**  \n",
        "・for文を使い1つの数字ごとに判定します\n",
        "```\n",
        "for num in num_list:\n",
        "  処理\n",
        "```\n",
        "\n",
        "・3の倍数の判定には %（余り）演算を使います  \n",
        "\n",
        "```\n",
        "1 % 3\n",
        "（実行結果） 1\n",
        "```\n",
        "\n",
        "・3が含まれる数字の判定は in を使います\n",
        "\n",
        "\n",
        "```\n",
        "# 文字列として3が含まれているか判定する\n",
        "\"3\" in str(num)\n",
        "\n",
        "numに数字が含まれていればTrueを返す\n",
        "```\n",
        "\n",
        "\n",
        "\n",
        "・（発展）可能であればナベアツ判定処理を関数化してみてください\n",
        "\n",
        "  \n"
      ],
      "metadata": {
        "id": "MN4s_poR0vRf"
      }
    },
    {
      "cell_type": "code",
      "source": [
        ""
      ],
      "metadata": {
        "id": "FmcvRMwDBT8z"
      },
      "execution_count": null,
      "outputs": []
    }
  ]
}